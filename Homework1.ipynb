{
 "cells": [
  {
   "cell_type": "code",
   "execution_count": 46,
   "metadata": {},
   "outputs": [],
   "source": [
    "import numpy as np\n",
    "import matplotlib.pyplot as plt\n",
    "from sklearn.preprocessing import PolynomialFeatures\n",
    "from sklearn.linear_model import LinearRegression"
   ]
  },
  {
   "cell_type": "markdown",
   "metadata": {},
   "source": [
    "# No=5; Model:1"
   ]
  },
  {
   "cell_type": "code",
   "execution_count": 170,
   "metadata": {},
   "outputs": [],
   "source": [
    "X = np.random.rand(5, 1) * 10\n",
    "y = 2 * X ** 4 - 5 * X ** 2 + X - 2\n",
    "y = y + np.random.normal(scale=3, size=y.shape)\n",
    "\n",
    "X = X.reshape(-1, 1)\n",
    "y = y.reshape(-1, 1)"
   ]
  },
  {
   "cell_type": "code",
   "execution_count": 171,
   "metadata": {},
   "outputs": [
    {
     "data": {
      "text/plain": [
       "[<matplotlib.lines.Line2D at 0x180962a06a0>]"
      ]
     },
     "execution_count": 171,
     "metadata": {},
     "output_type": "execute_result"
    },
    {
     "data": {
      "image/png": "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\n",
      "text/plain": [
       "<Figure size 432x288 with 1 Axes>"
      ]
     },
     "metadata": {
      "needs_background": "light"
     },
     "output_type": "display_data"
    }
   ],
   "source": [
    "plt.plot(X, y, 'bo')"
   ]
  },
  {
   "cell_type": "code",
   "execution_count": 172,
   "metadata": {},
   "outputs": [],
   "source": [
    "lr_model = LinearRegression(normalize=True)"
   ]
  },
  {
   "cell_type": "code",
   "execution_count": 173,
   "metadata": {},
   "outputs": [
    {
     "name": "stdout",
     "output_type": "stream",
     "text": [
      "[[2050.80960126]] [-8591.1258605]\n"
     ]
    }
   ],
   "source": [
    "lr_model.fit(X, y)\n",
    "print(lr_model.coef_, lr_model.intercept_)"
   ]
  },
  {
   "cell_type": "code",
   "execution_count": 174,
   "metadata": {},
   "outputs": [
    {
     "name": "stdout",
     "output_type": "stream",
     "text": [
      "262302.5126021104\n"
     ]
    }
   ],
   "source": [
    "h = lr_model.predict(X)\n",
    "MSE = np.mean((y - h) ** 2) / 2\n",
    "print(MSE)"
   ]
  },
  {
   "cell_type": "code",
   "execution_count": 175,
   "metadata": {},
   "outputs": [
    {
     "data": {
      "text/plain": [
       "0.9463595316944265"
      ]
     },
     "execution_count": 175,
     "metadata": {},
     "output_type": "execute_result"
    }
   ],
   "source": [
    "1 - (2 * MSE / y.var())"
   ]
  },
  {
   "cell_type": "code",
   "execution_count": 176,
   "metadata": {},
   "outputs": [],
   "source": [
    "x_4 = np.hstack((X, X ** 2, X ** 3, X ** 4))"
   ]
  },
  {
   "cell_type": "code",
   "execution_count": 177,
   "metadata": {},
   "outputs": [
    {
     "data": {
      "text/plain": [
       "LinearRegression(normalize=True)"
      ]
     },
     "execution_count": 177,
     "metadata": {},
     "output_type": "execute_result"
    }
   ],
   "source": [
    "lr_model.fit(x_4, y)"
   ]
  },
  {
   "cell_type": "code",
   "execution_count": 178,
   "metadata": {},
   "outputs": [
    {
     "data": {
      "text/plain": [
       "[<matplotlib.lines.Line2D at 0x180960aff10>]"
      ]
     },
     "execution_count": 178,
     "metadata": {},
     "output_type": "execute_result"
    },
    {
     "data": {
      "image/png": "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\n",
      "text/plain": [
       "<Figure size 432x288 with 1 Axes>"
      ]
     },
     "metadata": {
      "needs_background": "light"
     },
     "output_type": "display_data"
    }
   ],
   "source": [
    "x_line = np.arange(-1, 10, 0.1).reshape(-1, 1)\n",
    "x_line_poly = np.hstack((x_line, x_line ** 2, x_line ** 3, x_line ** 4))\n",
    "y_line = lr_model.predict(x_line_poly)\n",
    "\n",
    "plt.plot(X[:, 0], y, 'bo')\n",
    "plt.plot(x_line, y_line, 'r--')"
   ]
  },
  {
   "cell_type": "code",
   "execution_count": 179,
   "metadata": {},
   "outputs": [
    {
     "data": {
      "text/plain": [
       "1.0"
      ]
     },
     "execution_count": 179,
     "metadata": {},
     "output_type": "execute_result"
    }
   ],
   "source": [
    "lr_model.score(x_4, y)"
   ]
  },
  {
   "cell_type": "markdown",
   "metadata": {},
   "source": [
    "# No=25; Model:1"
   ]
  },
  {
   "cell_type": "code",
   "execution_count": 146,
   "metadata": {},
   "outputs": [
    {
     "name": "stdout",
     "output_type": "stream",
     "text": [
      "[[1622.04256776]] [-4478.52725733]\n",
      "4055456.8922942895\n"
     ]
    },
    {
     "data": {
      "text/plain": [
       "0.999999814297539"
      ]
     },
     "execution_count": 146,
     "metadata": {},
     "output_type": "execute_result"
    },
    {
     "data": {
      "image/png": "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\n",
      "text/plain": [
       "<Figure size 432x288 with 1 Axes>"
      ]
     },
     "metadata": {
      "needs_background": "light"
     },
     "output_type": "display_data"
    }
   ],
   "source": [
    "X = np.random.rand(25, 1) * 10\n",
    "y = 2 * X ** 4 - 5 * X ** 2 + X - 2\n",
    "y = y + np.random.normal(scale=3, size=y.shape)\n",
    "\n",
    "X = X.reshape(-1, 1)\n",
    "y = y.reshape(-1, 1)\n",
    "\n",
    "plt.plot(X, y, 'bo')\n",
    "\n",
    "lr_model = LinearRegression(normalize=True)\n",
    "\n",
    "lr_model.fit(X, y)\n",
    "print(lr_model.coef_, lr_model.intercept_)\n",
    "\n",
    "h = lr_model.predict(X)\n",
    "MSE = np.mean((y - h) ** 2) / 2\n",
    "print(MSE)\n",
    "\n",
    "1 - (2 * MSE / y.var())\n",
    "\n",
    "x_4 = np.hstack((X, X ** 2, X ** 3, X ** 4))\n",
    "\n",
    "lr_model.fit(x_4, y)\n",
    "\n",
    "x_line = np.arange(-1, 10, 0.1).reshape(-1, 1)\n",
    "x_line_poly = np.hstack((x_line, x_line ** 2, x_line ** 3, x_line ** 4))\n",
    "y_line = lr_model.predict(x_line_poly)\n",
    "\n",
    "plt.plot(X[:, 0], y, 'bo')\n",
    "plt.plot(x_line, y_line, 'r--')\n",
    "\n",
    "lr_model.score(x_4, y)"
   ]
  },
  {
   "cell_type": "markdown",
   "metadata": {},
   "source": [
    "# No=100; Model:1"
   ]
  },
  {
   "cell_type": "code",
   "execution_count": 147,
   "metadata": {},
   "outputs": [
    {
     "name": "stdout",
     "output_type": "stream",
     "text": [
      "[[1609.79685501]] [-3695.23380747]\n",
      "4150386.6681024535\n"
     ]
    },
    {
     "data": {
      "text/plain": [
       "0.9999997843664648"
      ]
     },
     "execution_count": 147,
     "metadata": {},
     "output_type": "execute_result"
    },
    {
     "data": {
      "image/png": "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\n",
      "text/plain": [
       "<Figure size 432x288 with 1 Axes>"
      ]
     },
     "metadata": {
      "needs_background": "light"
     },
     "output_type": "display_data"
    }
   ],
   "source": [
    "X = np.random.rand(100, 1) * 10\n",
    "y = 2 * X ** 4 - 5 * X ** 2 + X - 2\n",
    "y = y + np.random.normal(scale=3, size=y.shape)\n",
    "\n",
    "X = X.reshape(-1, 1)\n",
    "y = y.reshape(-1, 1)\n",
    "\n",
    "plt.plot(X, y, 'bo')\n",
    "\n",
    "lr_model = LinearRegression(normalize=True)\n",
    "\n",
    "lr_model.fit(X, y)\n",
    "print(lr_model.coef_, lr_model.intercept_)\n",
    "\n",
    "h = lr_model.predict(X)\n",
    "MSE = np.mean((y - h) ** 2) / 2\n",
    "print(MSE)\n",
    "\n",
    "1 - (2 * MSE / y.var())\n",
    "\n",
    "x_4 = np.hstack((X, X ** 2, X ** 3, X ** 4))\n",
    "\n",
    "lr_model.fit(x_4, y)\n",
    "\n",
    "x_line = np.arange(-1, 10, 0.1).reshape(-1, 1)\n",
    "x_line_poly = np.hstack((x_line, x_line ** 2, x_line ** 3, x_line ** 4))\n",
    "y_line = lr_model.predict(x_line_poly)\n",
    "\n",
    "plt.plot(X[:, 0], y, 'bo')\n",
    "plt.plot(x_line, y_line, 'r--')\n",
    "\n",
    "lr_model.score(x_4, y)"
   ]
  },
  {
   "cell_type": "markdown",
   "metadata": {},
   "source": [
    "# No=1000; Model:1"
   ]
  },
  {
   "cell_type": "code",
   "execution_count": 152,
   "metadata": {},
   "outputs": [
    {
     "name": "stdout",
     "output_type": "stream",
     "text": [
      "[[1510.67713067]] [-3777.21273445]\n",
      "3361909.677512662\n"
     ]
    },
    {
     "data": {
      "text/plain": [
       "0.9999996735396524"
      ]
     },
     "execution_count": 152,
     "metadata": {},
     "output_type": "execute_result"
    },
    {
     "data": {
      "image/png": "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\n",
      "text/plain": [
       "<Figure size 432x288 with 1 Axes>"
      ]
     },
     "metadata": {
      "needs_background": "light"
     },
     "output_type": "display_data"
    }
   ],
   "source": [
    "X = np.random.rand(1000, 1) * 10\n",
    "y = 2 * X ** 4 - 5 * X ** 2 + X - 2\n",
    "y = y + np.random.normal(scale=3, size=y.shape)\n",
    "\n",
    "X = X.reshape(-1, 1)\n",
    "y = y.reshape(-1, 1)\n",
    "\n",
    "plt.plot(X, y, 'bo')\n",
    "\n",
    "lr_model = LinearRegression(normalize=True)\n",
    "\n",
    "lr_model.fit(X, y)\n",
    "print(lr_model.coef_, lr_model.intercept_)\n",
    "\n",
    "h = lr_model.predict(X)\n",
    "MSE = np.mean((y - h) ** 2) / 2\n",
    "print(MSE)\n",
    "\n",
    "1 - (2 * MSE / y.var())\n",
    "\n",
    "x_4 = np.hstack((X, X ** 2, X ** 3, X ** 4))\n",
    "\n",
    "lr_model.fit(x_4, y)\n",
    "\n",
    "x_line = np.arange(-1, 10, 0.1).reshape(-1, 1)\n",
    "x_line_poly = np.hstack((x_line, x_line ** 2, x_line ** 3, x_line ** 4))\n",
    "y_line = lr_model.predict(x_line_poly)\n",
    "\n",
    "plt.plot(X[:, 0], y, 'bo')\n",
    "plt.plot(x_line, y_line, 'r--')\n",
    "\n",
    "lr_model.score(x_4, y)"
   ]
  },
  {
   "cell_type": "markdown",
   "metadata": {},
   "source": [
    "# No=5; Model:2 (deg.:1)"
   ]
  },
  {
   "cell_type": "code",
   "execution_count": 160,
   "metadata": {},
   "outputs": [
    {
     "name": "stdout",
     "output_type": "stream",
     "text": [
      "[[1034.30850114]] [-2218.57056113]\n",
      "2035192.452776286\n"
     ]
    },
    {
     "data": {
      "text/plain": [
       "0.6313761181513592"
      ]
     },
     "execution_count": 160,
     "metadata": {},
     "output_type": "execute_result"
    },
    {
     "data": {
      "image/png": "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\n",
      "text/plain": [
       "<Figure size 432x288 with 1 Axes>"
      ]
     },
     "metadata": {
      "needs_background": "light"
     },
     "output_type": "display_data"
    }
   ],
   "source": [
    "X = np.random.rand(5, 1) * 10\n",
    "y = 2 * X ** 4 - 5 * X ** 2 + X - 2\n",
    "y = y + np.random.normal(scale=3, size=y.shape)\n",
    "\n",
    "X = X.reshape(-1, 1)\n",
    "y = y.reshape(-1, 1)\n",
    "\n",
    "plt.plot(X, y, 'bo')\n",
    "\n",
    "lr_model = LinearRegression(normalize=True)\n",
    "\n",
    "lr_model.fit(X, y)\n",
    "print(lr_model.coef_, lr_model.intercept_)\n",
    "\n",
    "h = lr_model.predict(X)\n",
    "MSE = np.mean((y - h) ** 2) / 2\n",
    "print(MSE)\n",
    "\n",
    "1 - (2 * MSE / y.var())\n",
    "\n",
    "x_1 = np.hstack((X)).reshape(-1, 1)\n",
    "\n",
    "lr_model.fit(x_1, y)\n",
    "\n",
    "x_line = np.arange(-1, 10, 0.1).reshape(-1, 1)\n",
    "x_line_poly = np.hstack((x_line)).reshape(-1, 1)\n",
    "y_line = lr_model.predict(x_line_poly).reshape(-1, 1)\n",
    "\n",
    "plt.plot(X[:, 0], y, 'bo')\n",
    "plt.plot(x_line, y_line, 'r--')\n",
    "\n",
    "lr_model.score(x_1, y)"
   ]
  },
  {
   "cell_type": "markdown",
   "metadata": {},
   "source": [
    "# No=25; Model:2 (deg.:1)"
   ]
  },
  {
   "cell_type": "code",
   "execution_count": 161,
   "metadata": {},
   "outputs": [
    {
     "name": "stdout",
     "output_type": "stream",
     "text": [
      "[[1450.97171115]] [-3649.54717397]\n",
      "3342087.3571503074\n"
     ]
    },
    {
     "data": {
      "text/plain": [
       "0.693675166275491"
      ]
     },
     "execution_count": 161,
     "metadata": {},
     "output_type": "execute_result"
    },
    {
     "data": {
      "image/png": "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\n",
      "text/plain": [
       "<Figure size 432x288 with 1 Axes>"
      ]
     },
     "metadata": {
      "needs_background": "light"
     },
     "output_type": "display_data"
    }
   ],
   "source": [
    "X = np.random.rand(25, 1) * 10\n",
    "y = 2 * X ** 4 - 5 * X ** 2 + X - 2\n",
    "y = y + np.random.normal(scale=3, size=y.shape)\n",
    "\n",
    "X = X.reshape(-1, 1)\n",
    "y = y.reshape(-1, 1)\n",
    "\n",
    "plt.plot(X, y, 'bo')\n",
    "\n",
    "lr_model = LinearRegression(normalize=True)\n",
    "\n",
    "lr_model.fit(X, y)\n",
    "print(lr_model.coef_, lr_model.intercept_)\n",
    "\n",
    "h = lr_model.predict(X)\n",
    "MSE = np.mean((y - h) ** 2) / 2\n",
    "print(MSE)\n",
    "\n",
    "1 - (2 * MSE / y.var())\n",
    "\n",
    "x_1 = np.hstack((X)).reshape(-1, 1)\n",
    "\n",
    "lr_model.fit(x_1, y)\n",
    "\n",
    "x_line = np.arange(-1, 10, 0.1).reshape(-1, 1)\n",
    "x_line_poly = np.hstack((x_line)).reshape(-1, 1)\n",
    "y_line = lr_model.predict(x_line_poly).reshape(-1, 1)\n",
    "\n",
    "plt.plot(X[:, 0], y, 'bo')\n",
    "plt.plot(x_line, y_line, 'r--')\n",
    "\n",
    "lr_model.score(x_1, y)"
   ]
  },
  {
   "cell_type": "markdown",
   "metadata": {},
   "source": [
    "# No=100; Model:2 (deg.:1)"
   ]
  },
  {
   "cell_type": "code",
   "execution_count": 162,
   "metadata": {},
   "outputs": [
    {
     "name": "stdout",
     "output_type": "stream",
     "text": [
      "[[1720.96259269]] [-4585.20111118]\n",
      "3772776.868113488\n"
     ]
    },
    {
     "data": {
      "text/plain": [
       "0.7707383304571156"
      ]
     },
     "execution_count": 162,
     "metadata": {},
     "output_type": "execute_result"
    },
    {
     "data": {
      "image/png": "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\n",
      "text/plain": [
       "<Figure size 432x288 with 1 Axes>"
      ]
     },
     "metadata": {
      "needs_background": "light"
     },
     "output_type": "display_data"
    }
   ],
   "source": [
    "X = np.random.rand(100, 1) * 10\n",
    "y = 2 * X ** 4 - 5 * X ** 2 + X - 2\n",
    "y = y + np.random.normal(scale=3, size=y.shape)\n",
    "\n",
    "X = X.reshape(-1, 1)\n",
    "y = y.reshape(-1, 1)\n",
    "\n",
    "plt.plot(X, y, 'bo')\n",
    "\n",
    "lr_model = LinearRegression(normalize=True)\n",
    "\n",
    "lr_model.fit(X, y)\n",
    "print(lr_model.coef_, lr_model.intercept_)\n",
    "\n",
    "h = lr_model.predict(X)\n",
    "MSE = np.mean((y - h) ** 2) / 2\n",
    "print(MSE)\n",
    "\n",
    "1 - (2 * MSE / y.var())\n",
    "\n",
    "x_1 = np.hstack((X)).reshape(-1, 1)\n",
    "\n",
    "lr_model.fit(x_1, y)\n",
    "\n",
    "x_line = np.arange(-1, 10, 0.1).reshape(-1, 1)\n",
    "x_line_poly = np.hstack((x_line)).reshape(-1, 1)\n",
    "y_line = lr_model.predict(x_line_poly).reshape(-1, 1)\n",
    "\n",
    "plt.plot(X[:, 0], y, 'bo')\n",
    "plt.plot(x_line, y_line, 'r--')\n",
    "\n",
    "lr_model.score(x_1, y)"
   ]
  },
  {
   "cell_type": "markdown",
   "metadata": {},
   "source": [
    "# No=1000; Model:2 (deg.:1)"
   ]
  },
  {
   "cell_type": "code",
   "execution_count": 163,
   "metadata": {
    "scrolled": true
   },
   "outputs": [
    {
     "name": "stdout",
     "output_type": "stream",
     "text": [
      "[[1618.51680941]] [-4217.70590022]\n",
      "3594047.5757263363\n"
     ]
    },
    {
     "data": {
      "text/plain": [
       "0.7527193054868214"
      ]
     },
     "execution_count": 163,
     "metadata": {},
     "output_type": "execute_result"
    },
    {
     "data": {
      "image/png": "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\n",
      "text/plain": [
       "<Figure size 432x288 with 1 Axes>"
      ]
     },
     "metadata": {
      "needs_background": "light"
     },
     "output_type": "display_data"
    }
   ],
   "source": [
    "X = np.random.rand(1000, 1) * 10\n",
    "y = 2 * X ** 4 - 5 * X ** 2 + X - 2\n",
    "y = y + np.random.normal(scale=3, size=y.shape)\n",
    "\n",
    "X = X.reshape(-1, 1)\n",
    "y = y.reshape(-1, 1)\n",
    "\n",
    "plt.plot(X, y, 'bo')\n",
    "\n",
    "lr_model = LinearRegression(normalize=True)\n",
    "\n",
    "lr_model.fit(X, y)\n",
    "print(lr_model.coef_, lr_model.intercept_)\n",
    "\n",
    "h = lr_model.predict(X)\n",
    "MSE = np.mean((y - h) ** 2) / 2\n",
    "print(MSE)\n",
    "\n",
    "1 - (2 * MSE / y.var())\n",
    "\n",
    "x_1 = np.hstack((X)).reshape(-1, 1)\n",
    "\n",
    "lr_model.fit(x_1, y)\n",
    "\n",
    "x_line = np.arange(-1, 10, 0.1).reshape(-1, 1)\n",
    "x_line_poly = np.hstack((x_line)).reshape(-1, 1)\n",
    "y_line = lr_model.predict(x_line_poly).reshape(-1, 1)\n",
    "\n",
    "plt.plot(X[:, 0], y, 'bo')\n",
    "plt.plot(x_line, y_line, 'r--')\n",
    "\n",
    "lr_model.score(x_1, y)"
   ]
  },
  {
   "cell_type": "markdown",
   "metadata": {},
   "source": [
    "# No=5; Model:3 (deg.:16)"
   ]
  },
  {
   "cell_type": "code",
   "execution_count": 164,
   "metadata": {},
   "outputs": [
    {
     "name": "stdout",
     "output_type": "stream",
     "text": [
      "[[1354.23907165]] [-2855.85691513]\n",
      "114261.05449443415\n"
     ]
    },
    {
     "data": {
      "text/plain": [
       "1.0"
      ]
     },
     "execution_count": 164,
     "metadata": {},
     "output_type": "execute_result"
    },
    {
     "data": {
      "image/png": "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\n",
      "text/plain": [
       "<Figure size 432x288 with 1 Axes>"
      ]
     },
     "metadata": {
      "needs_background": "light"
     },
     "output_type": "display_data"
    }
   ],
   "source": [
    "X = np.random.rand(5, 1) * 10\n",
    "y = 2 * X ** 4 - 5 * X ** 2 + X - 2\n",
    "y = y + np.random.normal(scale=3, size=y.shape)\n",
    "\n",
    "X = X.reshape(-1, 1)\n",
    "y = y.reshape(-1, 1)\n",
    "\n",
    "plt.plot(X, y, 'bo')\n",
    "\n",
    "lr_model = LinearRegression(normalize=True)\n",
    "\n",
    "lr_model.fit(X, y)\n",
    "print(lr_model.coef_, lr_model.intercept_)\n",
    "\n",
    "h = lr_model.predict(X)\n",
    "MSE = np.mean((y - h) ** 2) / 2\n",
    "print(MSE)\n",
    "\n",
    "1 - (2 * MSE / y.var())\n",
    "\n",
    "x_16 = np.hstack((X, X ** 2, X ** 3, X ** 4, X ** 5, X ** 6, X ** 7, X ** 8, X ** 9, X ** 10, X ** 11, X ** 12, X ** 13, X ** 14, X ** 15, X ** 16))\n",
    "\n",
    "lr_model.fit(x_16, y)\n",
    "\n",
    "x_line = np.arange(-1, 10, 0.1).reshape(-1, 1)\n",
    "x_line_poly = np.hstack((x_line, x_line ** 2, x_line ** 3, x_line ** 4, x_line ** 5, x_line ** 6, x_line ** 7, x_line ** 8, x_line ** 9, x_line ** 10, x_line ** 11, x_line ** 12, x_line ** 13, x_line ** 14, x_line ** 15, x_line ** 16))\n",
    "y_line = lr_model.predict(x_line_poly)\n",
    "\n",
    "plt.plot(X[:, 0], y, 'bo')\n",
    "plt.plot(x_line, y_line, 'r--')\n",
    "\n",
    "lr_model.score(x_16, y)"
   ]
  },
  {
   "cell_type": "markdown",
   "metadata": {},
   "source": [
    "# No=25; Model:3 (deg.:16)"
   ]
  },
  {
   "cell_type": "code",
   "execution_count": 165,
   "metadata": {},
   "outputs": [
    {
     "name": "stdout",
     "output_type": "stream",
     "text": [
      "[[1473.24723646]] [-3456.66019402]\n",
      "4371854.483322295\n"
     ]
    },
    {
     "data": {
      "text/plain": [
       "0.9999999422816986"
      ]
     },
     "execution_count": 165,
     "metadata": {},
     "output_type": "execute_result"
    },
    {
     "data": {
      "image/png": "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\n",
      "text/plain": [
       "<Figure size 432x288 with 1 Axes>"
      ]
     },
     "metadata": {
      "needs_background": "light"
     },
     "output_type": "display_data"
    }
   ],
   "source": [
    "X = np.random.rand(25, 1) * 10\n",
    "y = 2 * X ** 4 - 5 * X ** 2 + X - 2\n",
    "y = y + np.random.normal(scale=3, size=y.shape)\n",
    "\n",
    "X = X.reshape(-1, 1)\n",
    "y = y.reshape(-1, 1)\n",
    "\n",
    "plt.plot(X, y, 'bo')\n",
    "\n",
    "lr_model = LinearRegression(normalize=True)\n",
    "\n",
    "lr_model.fit(X, y)\n",
    "print(lr_model.coef_, lr_model.intercept_)\n",
    "\n",
    "h = lr_model.predict(X)\n",
    "MSE = np.mean((y - h) ** 2) / 2\n",
    "print(MSE)\n",
    "\n",
    "1 - (2 * MSE / y.var())\n",
    "\n",
    "x_16 = np.hstack((X, X ** 2, X ** 3, X ** 4, X ** 5, X ** 6, X ** 7, X ** 8, X ** 9, X ** 10, X ** 11, X ** 12, X ** 13, X ** 14, X ** 15, X ** 16))\n",
    "\n",
    "lr_model.fit(x_16, y)\n",
    "\n",
    "x_line = np.arange(-1, 10, 0.1).reshape(-1, 1)\n",
    "x_line_poly = np.hstack((x_line, x_line ** 2, x_line ** 3, x_line ** 4, x_line ** 5, x_line ** 6, x_line ** 7, x_line ** 8, x_line ** 9, x_line ** 10, x_line ** 11, x_line ** 12, x_line ** 13, x_line ** 14, x_line ** 15, x_line ** 16))\n",
    "y_line = lr_model.predict(x_line_poly)\n",
    "\n",
    "plt.plot(X[:, 0], y, 'bo')\n",
    "plt.plot(x_line, y_line, 'r--')\n",
    "\n",
    "lr_model.score(x_16, y)"
   ]
  },
  {
   "cell_type": "markdown",
   "metadata": {},
   "source": [
    "# No=100; Model:3 (deg.:16)"
   ]
  },
  {
   "cell_type": "code",
   "execution_count": 166,
   "metadata": {},
   "outputs": [
    {
     "name": "stdout",
     "output_type": "stream",
     "text": [
      "[[1452.69909038]] [-3417.45438145]\n",
      "3477778.3870093883\n"
     ]
    },
    {
     "data": {
      "text/plain": [
       "0.9999997125459045"
      ]
     },
     "execution_count": 166,
     "metadata": {},
     "output_type": "execute_result"
    },
    {
     "data": {
      "image/png": "iVBORw0KGgoAAAANSUhEUgAAAYQAAAD4CAYAAADsKpHdAAAABHNCSVQICAgIfAhkiAAAAAlwSFlzAAALEgAACxIB0t1+/AAAADh0RVh0U29mdHdhcmUAbWF0cGxvdGxpYiB2ZXJzaW9uMy4yLjIsIGh0dHA6Ly9tYXRwbG90bGliLm9yZy+WH4yJAAAgAElEQVR4nO3deXxU9b3/8deHiSCLCEhQVkGh1KAtS34Ul1q9SKG2FbVQcaUVjSZuqL1WbWtbW29rteLVXuDGylYXwO1KrRvFVq2iNqiVxaKAChGEKC4gCCT5/P44Z8IkTEJIJjkzk/fz8ZjHnPl8z5n5jks+813O92vujoiISKuoKyAiIulBCUFERAAlBBERCSkhiIgIoIQgIiKhnKgr0FBdu3b1vn37Rl0NEZGMsmTJkg/dPTdZWcYmhL59+1JSUhJ1NUREMoqZvVdb2V67jMyst5n9zczeNLPlZnZFGO9iZgvN7O3wuXPCNdeZ2SozW2lmoxPiw8xsaVh2h5lZGG9jZvPC+Mtm1rcxX1hERPZdfcYQyoGr3f0IYARwiZnlAdcCi9x9ALAofE1YNgEYBIwBpppZLHyvaUABMCB8jAnjk4CP3b0/MAW4OQXfTURE9sFeE4K7b3D3V8PjLcCbQE9gLDA7PG02cGp4PBaY6+473P0dYBUw3My6Ax3dfbEHt0fPqXFN/L0eBEbGWw8iItI89mmWUdiVMwR4GTjY3TdAkDSAbuFpPYF1CZeVhrGe4XHNeLVr3L0c+BQ4KMnnF5hZiZmVlJWV7UvVRURkL+qdEMysA/AQMNndP6vr1CQxryNe1zXVA+7F7p7v7vm5uUkHyUVEpIHqlRDMbD+CZHCvuz8chjeG3UCEz5vCeCnQO+HyXsD6MN4rSbzaNWaWAxwIbN7XLyMiks2KiiAnB8yC56Ki1L5/fWYZGXA38Ka735ZQtACYGB5PBB5NiE8IZw71Ixg8fiXsVtpiZiPC9zyvxjXx9xoHPONahlVEpEpREUybBhUVweuKiuB1KpOC7e3vrpkdBzwPLAUqw/D1BOMI84E+wFpgvLtvDq/5CXA+wQylye7+RBjPB2YBbYEngMvc3c1sf+BPBOMTm4EJ7r6mrnrl5+e77kMQkZYiJ2d3MkgUi0F5ef3fx8yWuHt+0rJM/SGuhCAiLUld8y735c94XQlBaxmJiGSAWGzf4g2hhCAikgEKCvYt3hAZu5aRiEhLMnVq8FxcHIwlxGJBMojHU0EJQUQkQ0ydmtoEUJO6jEREBFBCEBGRkBKCiEi6u+ceWL26yT9GCUFEJJ2VlcEPfhCMJjcxJQQRkXT2yCPBtKJzz23yj9IsIxGRdHbBBXDUUXDkkU3+UWohiIiks1at4Oijm+ejmuVTRESk3uLLXE+225nS6mqKCptnzTl1GYmIpJH4MtfgXMadrPHDuGq6gTXtTWmgFoKISFqJTyY6msUczhr+xLnV4k1JCUFEJI3E9zw4jzlsoy2PcFq1eFNSQhARSSOxGLThCyYwl4f4Hls5oCre1OqzheYMM9tkZssSYvPM7PXw8a6ZvR7G+5rZ9oSy6QnXDDOzpWa2yszuCLfRJNxqc14Yf9nM+qb+a4qIZIaCAujIZ/wfp3I3k6rFm1p9BpVnAX8A5sQD7n5G/NjMfg98mnD+ancfnOR9pgEFwEvA48AYgm00JwEfu3t/M5sA3AyckeR6EZGsFwwcd+OC4llNtsx1bfbaQnD35wj2Od5D+Cv/+8D9db2HmXUHOrr7Yg/27JwDnBoWjwVmh8cPAiPjrQcRkRbnww+ZeuFrlO9y3IP9kpsjGUDjxxC+Dmx097cTYv3M7DUze9bMvh7GegKlCeeUhrF42ToAdy8naG0clOzDzKzAzErMrKSsrKyRVRcRSS9FRXBNt1kwdChfyllDUVHzfn5j70M4k+qtgw1AH3f/yMyGAf9nZoOAZL/443da1FVWPeheDBQD5OfnN8+dGiIizSC4/8B5g9ksZgRvVx7O29OCsrRvIZhZDnA6MC8ec/cd7v5ReLwEWA18iaBF0Cvh8l7A+vC4FOid8J4HUksXlYhItiouhiG8xlEsYzYTq8WbS2O6jE4C/u3uVV1BZpZrZrHw+DBgALDG3TcAW8xsRDg+cB7waHjZAqj69uOAZ8JxBhGRFqOiAs5nBtvZn3kJ82qa4/6DuPpMO70fWAwMNLNSM4vPg5rAnoPJxwNvmNm/CAaIL3b3+K/9QuCPwCqClsMTYfxu4CAzWwVcBVzbiO8jIpKRclpV8l3+zMOczid0roo3x/0HVXXY2wnufmYt8R8kiT0EPFTL+SXAHuu3uvsXwPi91UNEJJtdeFEr8qat4MBqs/ib5/6DOC1uJyKSBoKB4/YUF7eHZr7/IE5LV4iIRO3dd+ErX2HquYspL6fZ7z+IU0IQEYnarFmwbBn06BFpNZQQRESiVFkZJISTToJDD420KkoIIiJRWrgQ3nsPzj8/6pooIYiIROquu6BrVzjttKhrollGIiKROuMMGD0a2rSJuiZKCCIikRqfPrdhqctIRCQKlZVw553wwQdR16SKEoKISDMrKoJR+/0dLr+cc3ssavZlrmujLiMRkWYULHMN91PMZjrzgH+PHc28zHVt1EIQEWlGxcXQjY2czsPM4Tx2sH9VPGpKCCIizSi+zHVrdjGdi6vFo6aEICLSTOJjBYfyHn9lJCv5clVZcy5zXRuNIYiINIP42AFAIdPJYVe18uZc5ro2aiGIiDSD+BhBV8oAKGe/qrLCwugHlKF+O6bNMLNNZrYsIfYLM3vfzF4PHycnlF1nZqvMbKWZjU6IDzOzpWHZHeFWmphZGzObF8ZfNrO+qf2KIiLRq6iAQ3mX9fTgXOZUK0uHZAD1ayHMAsYkiU9x98Hh43EAM8sj2FpzUHjN1Pgey8A0oIBgn+UBCe85CfjY3fsDU4CbG/hdRETS0qBBwXMBxbSikr9zQlVZOowdxO01Ibj7c8DmvZ0XGgvMdfcd7v4Owf7Jw82sO9DR3Re7uwNzgFMTrpkdHj8IjIy3HkREMl1REaxYAW34ggu5iz/zXdbRp6o8HcYO4hozhnCpmb0RdinFd4TuCaxLOKc0jPUMj2vGq13j7uXAp8BBjaiXiEjaiI8dnME8cvmQO7msWnm6dBdBwxPCNOBwYDCwAfh9GE/2y97riNd1zR7MrMDMSsyspKysbN9qLCISgfj9BRfxv6zgCJ7hP6rK0qm7CBqYENx9o7tXuHslcBcwPCwqBXonnNoLWB/GeyWJV7vGzHKAA6mli8rdi909393zc3NzG1J1EZFmFf+jfzoPM5HZJP4GTqfuImhgQgjHBOJOA+IzkBYAE8KZQ/0IBo9fcfcNwBYzGxGOD5wHPJpwzcTweBzwTDjOICKS8eJ/9DdyCCX8v6p4Xl56dRdB/aad3g8sBgaaWamZTQJ+F04hfQM4EbgSwN2XA/OBFcCTwCXuHr8huxD4I8FA82rgiTB+N3CQma0CrgKuTdWXExGJUlER/N//bmQhJzGEV4GgxVBYCMuXR1y5JPZ6p7K7n5kkfHcd598E3JQkXgIcmST+BZA+O0SIiKRA/M7kG5jOSSzic9oDQYsh3VoGcZapvTP5+fleUlISdTVERJLKyYFYxQ7W0ocS8vkOfwGCFkJ5eXT1MrMl7p6frExLV4iINIGKimCq6cFs4nYmV4unKyUEEZEmEGvlTOZ2ljGIv3LS7niaTTVNpNVORURSqKgouBnNKyuZwflsoDvpPNU0kRKCiEiKJC5xDTH+h0urymKx9B5QBiUEEZGUmT49eO7HGk7ir1VbZEY9kFxfGkMQEUmBoiKIT9q8kin8gUvpEi66kM4DyYmUEEREUiC+iF1nNnM+M7iXs9lADyC9B5ITKSGIiKRAvBVwMdNpzzZ+z9VVZek8kJxICUFEJAViMWjNDi7nDp5kNMsTFmZI54HkREoIIiKNVFQElZXQg/Wsoze38qOqssLCCCu2jzTLSESkERKnmr5LP4bzSlVZYWHmtA5ALQQRkUaJDyZ/mTfpwkcEN6EZsVhmJQNQC0FEpFGCwWTnbibRkc84iqWAZcxU00RqIYiINEIsBsfxD45hMdMoJL5MRaZMNU2khCAi0ggFBXAtv6WMrszkh9XimUYJQUSkEaZe/Abf5nHutCvYTruqHdEybfwA6reF5gwz22RmyxJit5jZv83sDTN7xMw6hfG+ZrbdzF4PH9MTrhkWbru5yszuCPdWJtx/eV4Yf9nM+qb+a4qINJG//hU6dODGD4twD9YsysRkAPVrIcwCxtSILQSOdPevAG8B1yWUrXb3weHj4oT4NKAAGBA+4u85CfjY3fsDU4Cb9/lbiIhE5aqrYPVq6NIl6po02l4Tgrs/B+EKTbtjT7t7fO2+l4Bedb2HmXUHOrr7Yg/27JwDnBoWjwVmh8cPAiPjrQcRkbT20UfBc7du0dYjRVIxhnA+8ETC635m9pqZPWtmXw9jPYHShHNKw1i8bB1AmGQ+BQ5K9kFmVmBmJWZWUlZWloKqi4g00Nq10KsXzJ6993MzRKMSgpn9BCgH7g1DG4A+7j4EuAq4z8w6krhd0G4ef5s6yqoH3YvdPd/d83NzcxtTdRGRxrnlluAmhBNPjLomKdPgG9PMbCLwHWBk2A2Eu+8AdoTHS8xsNfAlghZBYrdSL2B9eFwK9AZKzSwHOJAaXVQiImnlgw/grrtg4kTo0yfq2qRMg1oIZjYG+DFwirtvS4jnmlksPD6MYPB4jbtvALaY2YhwfOA84NHwsgXAxPB4HPBMPMGIiKSlW2+FXbvgxz+OuiYptdcWgpndD5wAdDWzUuDnBLOK2gALw/Hfl8IZRccDN5pZOVABXOzu8V/7hQQzltoSjDnExx3uBv5kZqsIWgYTUvLNRESawvbtMGMGnHMO9O8fdW1SyjL1x3h+fr6XlJREXQ0RaYnefz/YL7NXnRMs05KZLXH3/GRlWtxORKS+du2C/faDnj33fm4G0tIVIiL1dd11cNJJwe3IWUgJQUSkPjZuDNak6NEDcrKzc0UJQUSkDkVFwd//2w/5DeXbd/KL8p9GXaUmo4QgIlKL+PaY3SvWUcg0ZjORX97/JYqKoq5Z01BCEBGpRXx7zCuZguHcyA3V4tkmOzvCRERSIL4N5g3cyJOMYS2HVotnG7UQRERqEWyD6XxOBxbyzRrx7KOEICJSi5+PW84K8hjMa9Ximbg9Zn2oy0hEpBY/234921uv5/3yPlAZtAwKCjJ3R7S9UUIQEUnmhRdgwQLa/vrXbPpJ0i1aso66jEREanKHa6+FQw6ByZOjrk2zUQtBRKSmZ56Bf/wj6Btq3z7q2jQbJQQRkZpOPBEeeADGjo26Js1KCUFEJFFlJbRqBePGRV2TZqcxBBGRuK1b4aijYP78qGsSib0mBDObYWabzGxZQqyLmS00s7fD584JZdeZ2SozW2lmoxPiw8xsaVh2R7iVJmbWxszmhfGXzaxvar+iiEg93XorrFgBvXtHXZNI1KeFMAsYUyN2LbDI3QcAi8LXmFkewRaYg8Jrpsb3WAamAQUE+ywPSHjPScDH7t4fmALc3NAvIyLSYOvXwy23wPjxcPTRUdcmEntNCO7+HMFex4nGArPD49nAqQnxue6+w93fAVYBw82sO9DR3Rd7sGfnnBrXxN/rQWBkvPUgItJsfvrTYEe03/wm6ppEpqFjCAe7+waA8LlbGO8JrEs4rzSM9QyPa8arXePu5cCnQNK7QMyswMxKzKykrKysgVUXEalhzRqYNQuuuAIOPzzq2kQm1YPKyX7Zex3xuq7ZM+he7O757p6fm5vbwCqKiATim9/Y4Ydxgj3LVZuzd/Ob+mhoQtgYdgMRPm8K46VA4mhML2B9GO+VJF7tGjPLAQ5kzy4qEZGUim9+k1PxBQDPVn6dKTMOzNrNb+qjoQlhATAxPJ4IPJoQnxDOHOpHMHj8StittMXMRoTjA+fVuCb+XuOAZ8JxBhGRJjN9OuzPdpZxJJOZUhXP1s1v6mOvN6aZ2f3ACUBXMysFfg78FphvZpOAtcB4AHdfbmbzgRVAOXCJu8e3kigkmLHUFngifADcDfzJzFYRtAwmpOSbiYjUoqgoXK6I39Kf1bzK0KqybN38pj4sU3+M5+fne0lJSdTVEJEMlJMDfSrWsII8HuE0zuL+qrJYDMrLI6xcEzOzJe6en6xMdyqLSItTUQG3M5lycvgRt1Yry9bNb+pDCUFEWpyBrd5mNE9xIzewvmoGfCBbN7+pDyUEEWkRiorALHisrBzAIJZzO9X3OigsjKhyaUIJQUSyXnyKKcDhrAJgNf3ZRWsgGDcoLGzZrQNQQhCRFiA+lfRLrGQ5g7ic/64qiw8it/RkAEoIItICBFNJnakUsZ22zE2Y3d6Sp5nWpA1yRCTrxWJwRsV9jOQZLmYamzi4WpkE1EIQkax35XkfMYUreYmvUUz1eaUteZppTUoIIpK14ovXLZ75JuXkcCF34eGfPTMNJNekLiMRyUqJM4te4Dj68Q47aaMkUAe1EEQkKxUXQ3u2ciHFtKKCnbSpiktySggikpUqKuDX/JRiLmIIr1WLS3JKCCKSlb7R6nku5w7+wCUsYfdabppVVDslBBHJPtu2Mf+A83mXvlzLb6sVaVZR7ZQQRCT7XH893T5dxaOnzOCLWAdAy1PUh2YZiUj2Of106NaNK68/gSujrksGUUIQkezhHtxgcPzxwUP2SYO7jMxsoJm9nvD4zMwmm9kvzOz9hPjJCddcZ2arzGylmY1OiA8zs6Vh2R3hvssiIvvmwgvhmmuCxCD7rMEJwd1Xuvtgdx8MDAO2AY+ExVPiZe7+OICZ5RHslzwIGANMNbP4eP80oAAYED7GNLReItJCPfoo3H03tG4dtBJkn6VqUHkksNrd36vjnLHAXHff4e7vAKuA4WbWHejo7os92OB5DnBqiuolIi3Bxo1B62DIELjhhqhrk7FSlRAmQMIu1XCpmb1hZjPMrHMY6wmsSzinNIz1DI9rxvdgZgVmVmJmJWVlZSmquohktMpKmDgRtmyBe+4JWgjSII1OCGbWGjgFeCAMTQMOBwYDG4Dfx09NcrnXEd8z6F7s7vnunp+bm9uoeotIZosvXPfV2FK2P/Us9w+fAnl5UVcro6ViltG3gFfdfSNA/BnAzO4CHgtflgK9E67rBawP472SxEVEkho0CFasCI7f4KvksYJ3n+vL80W6z6AxUtFldCYJ3UXhmEDcacCy8HgBMMHM2phZP4LB41fcfQOwxcxGhLOLzgMeTUG9RCQLFRUFyaA9WzmdhwB4l36AaeG6RmpUC8HM2gGjgIsSwr8zs8EE3T7vxsvcfbmZzQdWAOXAJe4eX2aqEJgFtAWeCB8iInsI/ug70yjkLO4jjxW8xUBAC9c1VqMSgrtvAw6qETu3jvNvAm5KEi8BjmxMXUQk+xUVBX/0z2cG53IPP+PGqmQAWriusbSWkYhkhPiGN4NYxh+4lIWcxH9xfbVztHBd42jpChFJe/FB5Nbs4EHG8QmdOId7qGR3kyAvTwPKjaWEICJprXVr2LUrON5JG27gRj7gEDZxcNU5WsU0NZQQRCRtDRq0OxnksokyuvEA3692TiymZJAqGkMQkbQVv9fgRJ7hXfoyiqf3OEfjBqmjhCAiaamoKHjuyzs8wHjeoR+LObraOeoqSi0lBBFJS8XFwc1njzKWVlQylkfZygHVzlEySC2NIYhIWqqocGbyQwaxnJN5nNX0r1ZeWBhRxbKYWggikpZyWjkrGciPuZmnGV2tTF1FTUMtBBFJPzt2cOFFbfjZtF/vUaRk0HTUQhCR9LJ4MQwYwNQLX6OwcPdyFLGYkkFTU0IQkcgNGhTsenmYrWHTMWNZ+0Fr6NOHqVOhvDzYIrm8XMmgqSkhiEik4stSdOEjnuBbxKhg1K6/MOj4g/Z+saSUxhBEJFIrVsD+bGcBp3Ao7zGSRcEKpiuirlnLoxaCiETOcDbRjbO5lxc5NurqtFhqIYhIdNxpxza20Z7TeZjkW6xLc2lUC8HM3jWzpWb2upmVhLEuZrbQzN4OnzsnnH+dma0ys5VmNjohPix8n1Vmdke4laaIZKGiIsjJCQaRfxP7KS+1OpYD+IyaySAvL5r6tWSp6DI60d0Hu3t++PpaYJG7DwAWha8xszxgAjAIGANMNbP4YubTgAKCfZYHhOUikmXim9xUVMCV3MZ1/l+8UDmC2IHVl6TIy4PlyyOqZAvWFGMIY4HZ4fFs4NSE+Fx33+Hu7wCrgOFm1h3o6O6L3d2BOQnXiEgWCfZDhouYzm1czXzGcwn/w5athjtVDyWDaDQ2ITjwtJktMbP4IrQHu/sGgPC5WxjvCaxLuLY0jPUMj2vG92BmBWZWYmYlZWVljay6iDS3igoYz3ymU8if+U7VrmcVFVHXTKDxCeFYdx8KfAu4xMyOr+PcZOMCXkd8z6B7sbvnu3t+bm7uvtdWRCIVi8FijqaYCxnPA+yidVVcoteohODu68PnTcAjwHBgY9gNRPi8KTy9FOidcHkvYH0Y75UkLiLZZPFiLrqgglJ6cxHF7GD/qiJtcpMeGpwQzKy9mR0QPwa+CSwDFgATw9MmAo+GxwuACWbWxsz6EQwevxJ2K20xsxHh7KLzEq4RkQwWn1E03h6g/Jiv883Xf6f1idJYY+5DOBh4JJwhmgPc5+5Pmtk/gflmNglYC4wHcPflZjaf4P7DcuASd4/3HBYCs4C2wBPhQ0QyWHxG0Vncy2wmspijOfvlyzhvaLAukaQfCyb2ZJ78/HwvKSmJuhoiUoucHPhBxR8ppoC/cwKnsIDP6UAspoQQJTNbknCbQDVaukJEUibxprODKjZyO5N5kjF8m7/wOR0ANKMojWnpChFJifiqpXGbOJjjeY7lDGInbarimlGUvtRCEJFGKSqCVq2CZNCKCv7AJRQSjBK/xtBqyQA0oyidKSGISIPFB47doQ1fMJcJXMJUele7BzWgGUXpT11GItJg06cHz134iEcZy3G8wFX8nilcVXWOBpEzh1oIIrLP4oPH8ZbBPziOfEoYz/xqyQDURZRJ1EIQkX1Sc/B4B/szjUJeZSgvcFy1c/Py1EWUSdRCEJF6KyranQx+wExO5BkA7uTyPZJBYaFWLc00SggiUm/FxZDDLm7nCmZyPhfxv0nP0+BxZlKXkYjUW5eKTczn+5zAs0xhMtfwu2rlsVgwZqBkkJnUQhCRWiXeedw7tp4lDONrvMw5/ImrmEI5+1WdW1gYzCZSMshcaiGISFI1B49LK7vzIOP4E+fyGkOrnavB4+ygFoKI7CE+eNyZzcxiIoexGjCuYgqvMXSP5as1eJwd1EIQkT0UF8NxPM+9nM0hfMDTfJM1HF5VrhvNspNaCCJS3a5d/LziZ/ydE9hBG47hRe7j7KpiLU6XvZQQRFqwxEHjnJzgNbfeys/4NXM4j6G8yhKqL52vO4+zV2O20OxtZn8zszfNbLmZXRHGf2Fm75vZ6+Hj5IRrrjOzVWa20sxGJ8SHmdnSsOyOcCtNEWlCnTsHC9NVVASrlHavWMe0aTB5zeVMPfkxzmcmWzmg2jUaPM5ujWkhlANXu/sRwAjgEjPLC8umuPvg8PE4QFg2ARgEjAGmmlm88TkNKCDYZ3lAWC4iTaRzZ/jkk+D4CFbwIsewkFG0Zgd/mNmeor98O+nexxo8zm4NTgjuvsHdXw2PtwBvAj3ruGQsMNfdd7j7O8AqYLiZdQc6uvtiD/bznAOc2tB6iUjdioqCZNCGL/glN/A6gzmMNfycX7KT1lU7mk2dGgweu+v+gpYiJWMIZtYXGAK8HIYuNbM3zGyGmXUOYz2h2iLppWGsZ3hcM57scwrMrMTMSsrKylJRdZEWp7gYerGOpRzFDfyKuUwgjxXM5wzANGjcgjU6IZhZB+AhYLK7f0bQ/XM4MBjYAPw+fmqSy72O+J5B92J3z3f3/Nzc3MZWXaTl2bmTigpYTw9eZSgnsZCJzOFDdv//pEHjlqtRCcHM9iNIBve6+8MA7r7R3SvcvRK4Cxgenl4K9E64vBewPoz3ShIXkUYYNCiYPWQG7Wwbd3b7FfTvT26rj6gkxgTmsYiTql3TqZO6hlqyxswyMuBu4E13vy0h3j3htNOAZeHxAmCCmbUxs34Eg8evuPsGYIuZjQjf8zzg0YbWS6QlKyranQRWrACjkrO5h5UM5LKyG3jqk69x/rm7kl7bqRN8/HEzV1jSSmPuVD4WOBdYamavh7HrgTPNbDBBt8+7wEUA7r7czOYDKwhmKF3i7uHwFYXALKAt8ET4EJF9EN/fOK49W3merzOE1/kn+ZzJ/byw5Th8FnzWLhhLqKjQCqWymwUTezJPfn6+l5SURF0NkbSRkxP8gT+cVaymPwB3cikvcgxzmYCHHQIZ+r+8pIiZLXH3/GRlulNZJEMljhGYwfCKF3mKb/JvvhwuRgeX8Qfu56yqZCBSF/1XIpJBEpeaCJamdkbyV57hRF7kWAbzOj/mZjbQPen1eXlJwyJAS13ttLw86DjVChmSQWqOEQB0YxOPczJl5HIlt1FMAdton/T6vDzdaSx1a3kthJIS6N0bFi+OuiYi+6S4GA7kEyYzhZn8AIBNHMxonuJwVnM7V+6RDMyCJSfclQxk71peC2HgQNiyBe6+G445JuraiNTPG29wR8V0zmMOHfic5zmOdnzONtrzd06sdmospv0KpGFaXgvhgAPgjDNg3rwgMYiku3nz4Ktf5XxmMJ/vM4RXOZ7na+0a0p3G0lAtLyEAXHABfP45zJ8fdU2khdtjP4JCD7ozL7oI5swJThozBm67jZ/98H0mMYPXGVLr+xUW6n4CabiW12UEMGIEHHFE0G00aVLUtZEWoqho981gNQ3k35xZcT/nTL8Hpq+Bdu2gT5+g8MAD4coruQX4fH/dUCZNp+XemPb449CmDYwcmbpKidQi2QyhnpTyfriM1z84lqNZzCJGcp+dw8xPToOOHSOoqWS7um5Ma5ktBICTT977OSINlNgaiMV270o2nFf4Ln/mNB6hP6vIpYxP6UQRUykjlw30AIeZygUSgZY5hhD34Ydw4YWwdm3UNZEMljgOEH/Et6aE4BOSrOEAAAn5SURBVHkMT7CB7izmGK7hd6ynB5O5ncrwf8E3+GqQDNAm9hKdlttCANi6Fe67Dz74ABYs0I1qUi+J20/WdACfcSwvMJJFjGQRv+Va5nMG79CPhYziz3yXJxnDp3Sq9f01S0ii0rITQt++cOON8KMfwUMPwbhxUddI0lzNZNCaHeykDR3Ywt84kSG8RoxKdtCaFzmGbbQDYCVf5hzu3ev7a5aQRKlldxkBXHEFDBkCl19e+88+yVo1F4gzg1atgm6gPWzezNBPFnENN/MA43iPPszhPAC2cgCrOZyb+AknsZDOfMx/8Dce47tVl5sl7w5KvJtYyUCi1LJbCBB0/hYXw9e+Br/8JUyZEnWNJMVqDvAOHAgrVyaf/gmQ4zt5dtrb/HHVci743sfBPQEA3/wmi1gCwGoO40WO4SlGV103gXl11uPii/UHX9Jby512WtPs2TBqFPTokbr3lGZV8w9/vC++5nRPCGb89GA9/XiH5zkegGu4mR8yk8NZzX6Eaz906gSbNwc/4598klHfivEaQ/iIrvWul+4XkHSi/RDqY+LEIBmUl8MNN2jmUSPtcQduUfL4oEF7ztCJP5J229Txebtn9jgdKj7h79NWsHra07ThCwC+x4M8zSjeYgDbacs6+vAc3+AAPgNgG+1YziBu4T85m3sYwquwYcPuyQZjxlDSaVS9kkEstrsbqLxcyUAyhLunxQMYA6wEVgHX7u38YcOGeZMoKXHff3/31q3dL7vMfcOGlLxtYaF7LOYe/InY+yMvb+/nm9Uei8WCz2xoHZK9d7Jzan5G/HNq+071/f7xR7X3/+QT95decv/LX9znzHGfMsX9+uvd33vPYzH303nQV9PPt7F/tTc5guUO7hOZ6S/z/3wu3/ffco1fxDQfyUJvzRdJPzsWS/7vslOn6ud16pSS/0REmgVQ4rX8XU2LLiMziwFvAaOAUuCfwJnuvqK2a5p0C821a+FXv4KZM4OfesccE8xC6tIFPv00WFZgv/3q/XbJ7lJtLvFZK6mpg9OancSoIEYFOZSTQznnXNCWKXd1gJ07YfVqhh65k1jlTlqzkzbsYBX9WUcfOrOZ03iEtmynLdtpz+e0YxvzOINXGcaRLOU2rqIjn9GRzziQT+nIZ3R4bB58+9vw5z/DKadUr1IsBosWYSd8g+N4nouZzga6s4HurKcHpfRiCcPYHs72acg/O5FsUleXUeQtgzAhHQ08lfD6OuC6uq5pshZCorfecv/P/3QfNcq9sjKInXWWe6tW7p07u/fs6T5ggPuJJ+6+5oc/dD/sMPdDD3Xv1cv9kEP8Ob5e9WvyKUb5Z3TwrbSrevyNb1SVv8gI/4wO/ikH+Cd09E/o6I8wtqq8hKFexkG+ia6+ia6+kVyfycSq8uUc4R/QzT+gm28k1zeS615UVNUyWEdP/5Au/hGdfTOd/GMO9Fu42sF9P3b4Vtr557T17bTxHeznO8nxm7jOwb0LHyb9Gf9T+3Xw3d95J2n5Zfy3g/sglu5R9jlt/RzmVJW/wNH+BKN9PuP8Lib5rVzl/q9/Be+/caP7Y4+5L17svnKl++bN7hUV7r5vra+GtnxEsgF1tBDSZZZRT2BdwutS4Gs1TzKzAqAAoE984a+mNGAA/O531WNnnw39+8PHHwcrpm7bFkxOjxs4MPilHIsFneOxGAvv6lVV/BjfYSlH4RhO0De9lt3f5SG+x2KOxghabobzFl+qdn1XPqwqA/gXX60q/wvfpgNbq147RtHw4VRM3f3+MSqqPt8xXg7/UVcQYxqFOEYFsaryZ/kGAJ/Tnuu5iQpilJNT9fySj+BXAN26wdy5jDtrP76obM0O2rCDNqwKN3x/iy/Rh/fYRruwjdC22l6/yzmSY3mx2j/uWAyu/kr4olu3oKWQREFB8hZQYWHwXNssIw34iuyWLl1G44HR7n5B+PpcYLi7X1bbNU3aZZRiOTm1T3FsavHNUpqyDjU3ZKmteyovL74PcP3tS7dNsllG+kMvUl0mzDIqBXonvO4FrI+oLikX5VIE8c9uyjrUfO+pU4M/5PGbsOIzbpYv3zOel1f72j372oc/dWqQmFwze0QaJF1aCDkEg8ojgfcJBpXPcvdad4HNpBYC1L0WfjJ5eXXfPAXBbMia//risWS/kPelDsneO9k5utlKJLPU1UJIi4QAYGYnA7cDMWCGu99U1/mZlhBERNJBRuyH4O6PA49HXQ8RkZYqXcYQREQkYkoIIiICKCGIiEhICUFERIA0mmW0r8ysDHgv6nrUU1cIby/OPtn83SC7v5++W+ZqzPc71N1zkxVkbELIJGZWUts0r0yXzd8Nsvv76btlrqb6fuoyEhERQAlBRERCSgjNozjqCjShbP5ukN3fT98tczXJ99MYgoiIAGohiIhISAlBREQAJYQmZWZjzGylma0ys2ujrk8qmVlvM/ubmb1pZsvN7Iqo65RqZhYzs9fM7LGo65JqZtbJzB40s3+H/w6PjrpOqWJmV4b/TS4zs/vNbP+o69QYZjbDzDaZ2bKEWBczW2hmb4fPnet6j/pSQmgiZhYD/gf4FpAHnGlmedHWKqXKgavd/QhgBHBJln0/gCuAN6OuRBP5b+BJd/8y8FWy5HuaWU/gciDf3Y8kWE5/QrS1arRZwJgasWuBRe4+AFgUvm40JYSmMxxY5e5r3H0nMBcYG3GdUsbdN7j7q+HxFoI/KD2jrVXqmFkv4NvAH6OuS6qZWUfgeOBuAHff6e6fRFurlMoB2oYbb7Ujw3dfdPfngM01wmOB2eHxbODUVHyWEkLT6QmsS3hdShb9wUxkZn2BIcDL0dYkpW4HrgEqo65IEzgMKANmhl1ifzSz9lFXKhXc/X3gVmAtsAH41N2fjrZWTeJgd98AwY8zoFsq3lQJoelYkljWzfE1sw7AQ8Bkd/8s6vqkgpl9B9jk7kuirksTyQGGAtPcfQjwOSnqcoha2Jc+FugH9ADam9k50dYqcyghNJ1SoHfC615keNO1JjPbjyAZ3OvuD0ddnxQ6FjjFzN4l6Or7DzO7J9oqpVQpUOru8RbdgwQJIhucBLzj7mXuvgt4GDgm4jo1hY1m1h0gfN6UijdVQmg6/wQGmFk/M2tNMLC1IOI6pYyZGUEf9JvuflvU9Ukld7/O3Xu5e1+Cf2/PuHvW/Mp09w+AdWY2MAyNBFZEWKVUWguMMLN24X+jI8mSAfMaFgATw+OJwKOpeNO02VM527h7uZldCjxFMNNhhrsvj7haqXQscC6w1MxeD2PXh3tjS/q7DLg3/LGyBvhhxPVJCXd/2cweBF4lmAn3Ghm+jIWZ3Q+cAHQ1s1Lg58BvgflmNokgCY5PyWdp6QoREQF1GYmISEgJQUREACUEEREJKSGIiAighCAiIiElBBERAZQQREQk9P8Bn5rULFHn6b4AAAAASUVORK5CYII=\n",
      "text/plain": [
       "<Figure size 432x288 with 1 Axes>"
      ]
     },
     "metadata": {
      "needs_background": "light"
     },
     "output_type": "display_data"
    }
   ],
   "source": [
    "X = np.random.rand(100, 1) * 10\n",
    "y = 2 * X ** 4 - 5 * X ** 2 + X - 2\n",
    "y = y + np.random.normal(scale=3, size=y.shape)\n",
    "\n",
    "X = X.reshape(-1, 1)\n",
    "y = y.reshape(-1, 1)\n",
    "\n",
    "plt.plot(X, y, 'bo')\n",
    "\n",
    "lr_model = LinearRegression(normalize=True)\n",
    "\n",
    "lr_model.fit(X, y)\n",
    "print(lr_model.coef_, lr_model.intercept_)\n",
    "\n",
    "h = lr_model.predict(X)\n",
    "MSE = np.mean((y - h) ** 2) / 2\n",
    "print(MSE)\n",
    "\n",
    "1 - (2 * MSE / y.var())\n",
    "\n",
    "x_16 = np.hstack((X, X ** 2, X ** 3, X ** 4, X ** 5, X ** 6, X ** 7, X ** 8, X ** 9, X ** 10, X ** 11, X ** 12, X ** 13, X ** 14, X ** 15, X ** 16))\n",
    "\n",
    "lr_model.fit(x_16, y)\n",
    "\n",
    "x_line = np.arange(-1, 10, 0.1).reshape(-1, 1)\n",
    "x_line_poly = np.hstack((x_line, x_line ** 2, x_line ** 3, x_line ** 4, x_line ** 5, x_line ** 6, x_line ** 7, x_line ** 8, x_line ** 9, x_line ** 10, x_line ** 11, x_line ** 12, x_line ** 13, x_line ** 14, x_line ** 15, x_line ** 16))\n",
    "y_line = lr_model.predict(x_line_poly)\n",
    "\n",
    "plt.plot(X[:, 0], y, 'bo')\n",
    "plt.plot(x_line, y_line, 'r--')\n",
    "\n",
    "lr_model.score(x_16, y)"
   ]
  },
  {
   "cell_type": "markdown",
   "metadata": {},
   "source": [
    "# No=1000; Model:3 (deg.:16)"
   ]
  },
  {
   "cell_type": "code",
   "execution_count": 167,
   "metadata": {},
   "outputs": [
    {
     "name": "stdout",
     "output_type": "stream",
     "text": [
      "[[1527.41305558]] [-3783.19839562]\n",
      "3377500.686358396\n"
     ]
    },
    {
     "data": {
      "text/plain": [
       "0.9999996895349096"
      ]
     },
     "execution_count": 167,
     "metadata": {},
     "output_type": "execute_result"
    },
    {
     "data": {
      "image/png": "iVBORw0KGgoAAAANSUhEUgAAAYQAAAD4CAYAAADsKpHdAAAABHNCSVQICAgIfAhkiAAAAAlwSFlzAAALEgAACxIB0t1+/AAAADh0RVh0U29mdHdhcmUAbWF0cGxvdGxpYiB2ZXJzaW9uMy4yLjIsIGh0dHA6Ly9tYXRwbG90bGliLm9yZy+WH4yJAAAgAElEQVR4nO3deXxU1f3/8deHsCpLgiIiS0GltolfhZpSWpdqcaFqBeuGrUorbUpwwe3rF22rta2tWle0QkGo2KqIW6HWtdqW2p9bUAQDpUaxEokQlU0QNOHz+2PuTe5kJgvJJDOTvJ+Pxzzm5pxz75xb7HzmLPccc3dEREQ6pbsCIiKSGRQQREQEUEAQEZGAAoKIiAAKCCIiEuic7go015577ulDhw5NdzVERLLKkiVLPnD3fsnysjYgDB06lJKSknRXQ0Qkq5jZf+vLa7TLyMwGm9nfzGylmZWa2dQgva+ZPWNmbwbveZFzrjCzMjNbZWbHRdIPMbPlQd50M7MgvZuZPRCkv2RmQ1tywyIisuuaMoZQBVzq7l8ERgPnmVk+MA141t2HA88GfxPkTQAKgLHAnWaWE1xrBlAEDA9eY4P0ScAGd98fuAW4PgX3JiIiu6DRgODuFe7+anC8BVgJDATGAfOCYvOA8cHxOGC+u+9w99VAGTDKzAYAvd39BY89Hn1PnXPCaz0EjAlbDyIi0jZ2aZZR0JUzEngJ6O/uFRALGsBeQbGBwJrIaeVB2sDguG563DnuXgVsAvZI8vlFZlZiZiWVlZW7UnUREWlEkwOCmfUEHgYucvfNDRVNkuYNpDd0TnyC+yx3L3T3wn79kg6Si4hIMzUpIJhZF2LB4F53fyRIXhd0AxG8rw/Sy4HBkdMHAWuD9EFJ0uPOMbPOQB/go129GRGR9iwvD8xqX3l5jZ+zK5oyy8iAOcBKd785krUImBgcTwQWRtInBDOHhhEbPH456FbaYmajg2ueU+ec8FqnAs+5lmEVEamRlwcbN8anbdyY2qDQlOcQDgXOBpab2dIg7UrgOmCBmU0C3gVOA3D3UjNbAKwgNkPpPHevDs4rBu4GegBPBC+IBZw/mFkZsZbBhBbel4hIu1I3GDSW3hyNBgR3f57kffwAY+o551rg2iTpJcCBSdK3EwQUERGJN2VK23yO1jISEclwM2e2zecoIIiIZLiGRlRzc1P3OQoIIiIZrLHuog0bUvdZCggiIhlsxoy2+ywFBBGRDNVY66C4OLWfp4AgIpKhZs2qP88M7rwztZ+ngCAikqGqgye4/odlGDvj8iZPTv3nKSCIiGSgsLuoC5/yF07gKn4el5/q1gFk8Y5pIiLtWTiY/BldGcZqdmNbq3+mWggiIhkmOphs7KSazmyhd01aTk6Sk1JAAUFEJMOEg8nD+Q/vMJTDWRyXX1TUOp+rgCAikmHCweSz+CODKKeM/ePyW2P8ABQQREQySkFBeOScxR95ljFUsE9Nfn5+6322AoKISAZZsSL2/jX+H/uymj9wdlx+aWnrfbYCgohIhogOJp/NH9jKbjzCt9vs8zXtVEQkQ0TXLXqQ01jGQWylZ01aa80uCjVlC825ZrbezN6IpD1gZkuD1zvhTmpmNtTMPonkzYycc4iZLTezMjObHmyjSbDV5gNB+ktmNjT1tykikl2eYwwziF/MqLVmF4Wa0mV0NzA2muDuZ7j7CHcfATwMPBLJfivMc/fow9UzgCJieywPj1xzErDB3fcHbgGub9adiIi0E+cyh8+zKiG9tWYXhRoNCO6+mNg+xwmCX/mnA/c3dA0zGwD0dvcX3N2Be4DxQfY4YF5w/BAwJmw9iIh0NPvwHrMo4iz+GJfemrOLQi0dVD4cWOfub0bShpnZa2b2DzM7PEgbCJRHypQHaWHeGgB3rwI2AXsk+zAzKzKzEjMrqaysbGHVRUQyR/gz+Cz+SA47mcfEuPzWnF0UamlAOJP41kEFMMTdRwKXAPeZWW8g2S/+cFO4hvLiE91nuXuhuxf269evBdUWEckctbOLnO9xN//kMN6KPIzWVn0mzZ5lZGadgW8Dh4Rp7r4D2BEcLzGzt4DPE2sRDIqcPghYGxyXA4OB8uCafaini0pEpD2aGUy/GcXLfJF/8wNmx+W3xlLXybSkhXA08G93r+kKMrN+ZpYTHO9LbPD4bXevALaY2ehgfOAcYGFw2iKoaRudCjwXjDOIiHQI4TdeAaV8SF8WcHpcfmsPJoeaMu30fuAF4AAzKzezSUHWBBIHk48AlpnZ68QGiCe7e/hrvxi4CygD3gKeCNLnAHuYWRmxbqZpLbgfEZGsEn0Y7fecyz6sjVvZtEuXtquLZeuP8cLCQi8pKUl3NUREWiQcH9iNrWxj94T8VH9Fm9kSdy9MlqelK0RE0qR2ITt4nOO5jzPj8tt6Ar4CgohImoQL2e3Pm3ydxbzOwXH5bTWYHFJAEBFJs3OZSzWduIdz4tLbajA5pIAgIpIGYXdRDlVMZB6Pc3zcvgfpoIAgIpIGYXfR8TzOPlQwh0lx+cXFbV8nBQQRkTYWnWr6N47iXObwGCfGlWnr7iLQfggiIm1u1qza44/pxe85Ny4/Ha0DUAtBRKTNVVfH3n/AbIq5k+jybbm56WkdgAKCiEib6to19p5DFVfxc77Fn4mu8blhQ3rqBQoIIiJt6rPPYu9jeZLBlDOL2m3Q0tVVFFJAEBFJgyJm8T794waT09VVFFJAEBFpI+GzB4N5lxP4C3M5lyracPW6RiggiIi0kfDZgzw28DyH8Tt+lN4K1aFppyIibWwZB3Mk/4hLS/f4AaiFICLSJvLyYu9fYCV7krgnfLrHD0ABQUSkTWzcGHufQTGLOYJ6to5Pq6bsmDbXzNab2RuRtJ+Z2XtmtjR4HR/Ju8LMysxslZkdF0k/xMyWB3nTg600MbNuZvZAkP6SmQ1N7S2KiKRXuFTFF1nBkfyDu/ke0WcP8vPTUq0ETWkh3A2MTZJ+i7uPCF6PA5hZPrGtNQuCc+4M91gGZgBFxPZZHh655iRgg7vvD9wCXN/MexERyUgzZsTei5nBDroyt85SFaWlaahUEo0GBHdfDHzUWLnAOGC+u+9w99XE9k8eZWYDgN7u/oLH9uy8BxgfOWdecPwQMCZsPYiIZLuwddCTLUxkHgs4nQ/oV5Ofm5umiiXRkjGE881sWdClFAyXMBBYEylTHqQNDI7rpsed4+5VwCZgjxbUS0QkY4Stg6P4Gz35mNu5IC4/nUtV1NXcgDAD2A8YAVQANwXpyX7ZewPpDZ2TwMyKzKzEzEoqKxNH6UVEMkm4bhHAnzmJobzDK4xKX4Ua0ayA4O7r3L3a3XcCs6HmDsuBwZGig4C1QfqgJOlx55hZZ6AP9XRRufssdy9098J+/folKyIikjHCdYs6EVvedA1D4vIzZTA51KyAEIwJhE4GwhlIi4AJwcyhYcQGj1929wpgi5mNDsYHzgEWRs6ZGByfCjwXjDOIiGSt6CY4D3Eqs/hhXH5ubuYMJocafVLZzO4HjgT2NLNy4GrgSDMbQaxr5x2IPX/t7qVmtgBYAVQB57l7sPI3xcRmLPUAngheAHOAP5hZGbGWwYRU3JiISDqFYwfDeJtxLORafhyXn0ljByHL1h/jhYWFXlJSku5qiIgkFc6VvIlLuIDbGco7rK2ZSwPp+uo1syXuXpgsT08qi4ikWNhd1IvN/IC7eJDT4oJBplJAEBFJsbC76HvcTW+2cCsXxeVn2mBySKudioikUHSq6QOcwXa6J0w1zbTB5JBaCCIiKRRONQVYT39mR7bIhMxY5ro+CggiIq3gZi7mWJ5KSM+EZa7ro4AgIpIi4RaZI3iNi7mVg1gWl98lc3bLTEoBQUQkRcItMi/lJrbQk9l1Hkb79NM0VGoXKCCIiKRAONV0MO8ygfnM5odsonYp00xa1bQ+CggiIikQTjWdym0ACVNNM/HJ5LoUEEREUqiUAm7ksoSF7LKBnkMQEWmh6JZev6+zGxpk9lTTKLUQRERaIC/YHqwrO/g+c+nG9oQymTzVNEoBQUSkBTZujL1/l3uZyySOYHFcfra0DkABQUSk2cKZRZ2o5nJu4FVG8gzHxJXJltYBaAxBRKTZwplF41jIF1jF6TxAdFfgbJhqGqUWgohIM9QuYudM4zrK2I+HOSWuTDZMNY1SQBARaYZwEbs8Yt/6N3A5O8mpyc+21gE0ISCY2VwzW29mb0TSfmNm/zazZWb2qJnlBulDzewTM1savGZGzjnEzJabWZmZTQ/2VibYf/mBIP0lMxua+tsUEUmdcGYRwAb68hVeYg6T4spkW+sAmtZCuBsYWyftGeBAdz8I+A9wRSTvLXcfEbwmR9JnAEXA8OAVXnMSsMHd9wduAa7f5bsQEWlD4cyioaxmDz4ALK51kJOT/LxM12hAcPfFwEd10p5296rgzxeBQQ1dw8wGAL3d/QWPbeJ8DzA+yB4HzAuOHwLGhK0HEZFMNp0LKaGQTlTHpRcV1XNChkvFGMK5wBORv4eZ2Wtm9g8zOzxIGwiUR8qUB2lh3hqAIMhsAvZI9kFmVmRmJWZWUllZmYKqi4jsmnCq6Qhe41s8xmx+GNc6yM/PrqmmUS0KCGb2Y6AKuDdIqgCGuPtI4BLgPjPrTXQeVi0PL9NAXnyi+yx3L3T3wn79+rWk6iIizTIzGBn9MdeykT7cwflx+Zm6PWZTNDsgmNlE4ETgu0E3EO6+w90/DI6XAG8BnyfWIoh2Kw0C1gbH5cDg4JqdgT7U6aISEckEZuAO+ZRyKg9zOxewmT41+dn0VHIyzQoIZjYW+D/gJHffFknvZ2Y5wfG+xAaP33b3CmCLmY0OxgfOARYGpy0CJgbHpwLPhQFGRCRT1D53AMfwDFvoyW1MrUkzy96uolBTpp3eD7wAHGBm5WY2CbgD6AU8U2d66RHAMjN7ndgA8WR3D3/tFwN3AWXEWg7huMMcYA8zKyPWzTQtNbcmIpI64XMHALdxEfvyNh+yZ03a5MlJTsoylq0/xgsLC72kpCTd1RCRDmDKlNplKvrzPuvYO6FMtnyVmtkSdy9MlqcnlUVEGhEGg3xKWcPgYM2iWu1lorwCgohIE/2UX7Cd7vyVo+PS20N3ESggiIg0KBxMLuANTmcB07mQj+o8KpXtg8khBQQRkXoUFNQOJv+cq9hCL27mkrgy2TJ20BQKCCIi9VixIva+NxV8kye4mUsSWgftiTbIERFJIlyiAuB9BrA/ZWymd1yZbH8QrS5NOxURSSKcOdSLzWyhF3VX2cnNzc4lrjXtVERkF9Tud+A8xoncx3cSymRjMGiMAoKISB3hfgff5AmO4J/8k8Pj8ttbV1FIAUFEJCIcO+hENdcxjTL2YzY/jCvTXqaZ1qVBZRGRiPCp5O9wHwexnDOYTxVdavLz89NUsTagFoKISCC6oul5/JYSDuFBTosrk837HTRGLQQREeIfQgM4mr+yN+/jkd/N7XXsIKQWgogItQ+h7cZWOvMZW+nJW+wfV6a9jh2EFBBEpMOrnWYK13A1yziI7nwSV6a9tw5AAUFEpGaa6TDe5gJu5wW+ynZ6xJVp760DaNqOaXPNbL2ZvRFJ62tmz5jZm8F7XiTvCjMrM7NVZnZcJP0QM1se5E0PttLEzLqZ2QNB+ktmNjS1tygi0jS/4kqq6MxP+UVcenueWRTVlBbC3cDYOmnTgGfdfTjwbPA3ZpYPTAAKgnPuDPdYBmYARcT2WR4eueYkYIO77w/cAlzf3JsREdlV4RIVX+FFJvAAN3IZaxlYk5+b275nFkU1GhDcfTHwUZ3kccC84HgeMD6SPt/dd7j7amL7J48yswFAb3d/wWOLJ91T55zwWg8BY8LWg4hIa4qOHUxiDhXszW/437gy7XGJivo0d9ppf3evAHD3CjPbK0gfCLwYKVcepH0WHNdND89ZE1yrysw2AXsAH9T9UDMrItbKYMiQIc2suohITDh2ADCZmezL22ylZ/oqlGapHlRO9sveG0hv6JzERPdZ7l7o7oX9+vVrZhVFRGLPHUBsmmlfPmQnOZQxPK5MR5hZFNXcgLAu6AYieF8fpJcDgyPlBgFrg/RBSdLjzjGzzkAfEruoRERSKnzu4Ep+xSoOoC8fxuXn5naMmUVRzQ0Ii4CJwfFEYGEkfUIwc2gYscHjl4PupS1mNjoYHzinzjnhtU4FnvNs3aRBRLJCuETFUFZzKTfxJGMTdkLrSGMHoUbHEMzsfuBIYE8zKweuBq4DFpjZJOBdiC324e6lZrYAWAFUAee5e3VwqWJiM5Z6AE8EL4A5wB/MrIxYy2BCSu5MRCSJvLzaJSpu4WKq6Mw0rosr01F/kjYaENz9zHqyxtRT/lrg2iTpJcCBSdK3Q53Vo0REWkntXgePM56F/B/X8V6kR7ujPHOQjJ5UFpEOIxxIBhjDs6zkC9zCxXFlOsozB8koIIhIhxEOJANcxk2M5kU+o2v9J3QwCggi0iGED6EN5l2+wEoANtMnrkxHm2ZalwKCiLR7U6aEYwfODIp5nsPYja1xZYqLO94007q0QY6ItHvhtpin8DAn8DgXczPb2D2uTEcPBqAWgoi0c+HKaL3YzG1M5TVGcDsXxJXp6F1FIbUQRKTdis4q+iU/YQAVnMyjVEe++jriE8n1UQtBRNqt2llFzsf05Dam8gqjavJzczvmE8n1UQtBRNqlrnGzSY0f8yvqrpupYBBPLQQRaXemTKldnmIyMziK54IcbbXSEAUEEWl3wllF+ZRyG1OZxJyEMhpITqSAICLtSjiQnEMVczmXzfTmIm5NKKeB5EQaQxCRdiUcSL6MG/kKL3MG8/mA+A21Oupqpo1RC0FE2o1wIHk/yriGq3mIU1jA6XFlFAzqpxaCiLQLFhkvfpt9uYhbeZhTiA4kd+SlrZtCAUFEsl64cB1Adz5hOz2YSeKocUde2ropmt1lZGYHmNnSyGuzmV1kZj8zs/ci6cdHzrnCzMrMbJWZHRdJP8TMlgd504NtNkVEmiTc9GYkr/JfPsehPJ9QRrOKGtfsgODuq9x9hLuPAA4BtgGPBtm3hHnu/jiAmeUT2x6zABgL3GlmOUH5GUARsT2Yhwf5IiKNCmcVdecT/shZfEpXVhDfN6SVTJsmVV1GY4C33P2/Dfy4HwfMd/cdwOpgD+VRZvYO0NvdXwAws3uA8dTuuSwiklReXm3r4NdcQT4rOYan2UDfuHIKBk2TqllGE4D7I3+fb2bLzGyumYW9ewOBNZEy5UHawOC4bnoCMysysxIzK6msrExR1UUkG9XucQDH8DQXcRu3cSF/5Zi4chpIbroWBwQz6wqcBDwYJM0A9gNGABXATWHRJKd7A+mJie6z3L3Q3Qv79euXrIiIdBDh08gAx/I0b1DANK6LK5Obq4HkXZGKFsI3gVfdfR2Au69z92p33wnMhpqlBcuBwZHzBgFrg/RBSdJFRJKKzioC+F9u5FD+xXZ61KSZafG6XZWKgHAmke4iMxsQyTsZeCM4XgRMMLNuZjaM2ODxy+5eAWwxs9HB7KJzgIUpqJeItEPRcYMzuY+C4Cum7v7Ikye3dc2yX4sGlc1sN+AY4EeR5BvMbASxbp93wjx3LzWzBcAKoAo4z92rg3OKgbuBHsQGkzWgLCIJouMGX2IJv+f7LGQcZ7Agrpw2vWke8yx9jruwsNBLSkrSXQ0RaUPhJMY+bORVvkRnqhjJa3zEHjVltOlNw8xsibsXJsvTk8oikhVqxw2cOUxiMGs4gsVxwQAUDFpCAUFEskLYVTSB+ZzCI1zGb3iRr8aV0RTTltFqpyKS0aZMiV+47mFOoYjfcTOXxJXr0kVTTFtKLQQRyVhTptQ+b9CP9VSTw0fswWyKEsp++mkbV64dUgtBRDJWGAxyqGIBp/NPDieHqoRyWTo3JuOohSAiGSnaTXQDl3Mk/+As/kB1na8trWKaOmohiEjGCXc+AziHeVzCLUznAu7lrLhyet4gtRQQRCSj5OXBZ5/Fjgt5hd/xI57lG1xasyxaLU0xTS0FBBHJGAUFtdNLAf7L51jA6ZzOAqroUpOem6txg9agMQQRyRgrVsTee7CNKjpTyV5M5J6EcmoZtA61EEQkI4SDyMZO/sDZ/IUTMHamt1IdjAKCiKRddEbRr7iSU3iEv3ACnuQrSl1FrUcBQUTSKjqjqIjfMY3rmcFkbmNqXLn8fAWD1qaAICJp07Vr7Yyi4/kLdzKFxziBC7id6GaKWpaibSggiEhamNUGA4jNKIrtbfBAwsNnWpaibSggiEibKyioPd6DDwCnlAM5hUfYxu5xZfUkcttRQBCRNlVQUDu9dBBreJUvcQ1XJy1bXKwnkdtSiwKCmb1jZsvNbKmZlQRpfc3sGTN7M3jPi5S/wszKzGyVmR0XST8kuE6ZmU0P9lYWkXYmGgz68iFPcRx92MSjnJxQVsGg7aWihXCUu4+IbMk2DXjW3YcDzwZ/Y2b5wASgABgL3GlmOcE5M4AiYHjwGpuCeolIBpkypTYY9GYTT3Ec+/I2J7GIpYyMK6s1itKjNbqMxgHzguN5wPhI+nx33+Huq4EyYJSZDQB6u/sLHtvg+Z7IOSLSDkT3NQDnT4znYF7nFB5mMV9PKK8nkdOjpQHBgafNbImZhTtW9Hf3CoDgfa8gfSCwJnJueZA2MDium57AzIrMrMTMSiorK1tYdRFpK7XBAMCYzoWcyf08zgkJZfWsQfq0dC2jQ919rZntBTxjZv9uoGyycQFvID0x0X0WMAugsLBQ/9mIZLi8vNrF6rrzCaN5kb9zFH9KMmYACgbp1qIWgruvDd7XA48Co4B1QTcQwfv6oHg5MDhy+iBgbZA+KEm6iGSxusFgIeN4iuMYzLtJyysYpF+zA4KZ7W5mvcJj4FjgDWARMDEoNhFYGBwvAiaYWTczG0Zs8PjloFtpi5mNDmYXnRM5R0SyVBgMerCNhYzjaP5KEbNYw5CEsgoGmaElXUb9gUeDGaKdgfvc/UkzewVYYGaTgHeB0wDcvdTMFgArgCrgPHevDq5VDNwN9ACeCF4ikoWiU0t7sZnHOJHDeJ5zmcs8vpdQXsEgczQ7ILj728DBSdI/BMbUc861wLVJ0kuAA5tbFxHJDNG1iQC+y718lRc4k/tZwBkJ5RUMMos2yBGRlIhufRnOF5nJZP7FoSznoITyCgaZR0tXiEiLRQeQ96OMFxnNAfwbMAWDLKIWgoi0SLSbaCSv8gTfpBM76cnHScsrGGQutRBEpNmiS1iP5QkWcwTb6c5hPM8SCuPKdumiYJDpFBBEpFmiS1AezTP8mW/xHz7PaF7kPxyQUF57GmQ+BQQR2WV11yN+nsO4kcs4gsW8z4C4PLUMsocCgog0WV5ebTDoyRZuZSp92Mh2enAF17GVnnHlc3PVMsgmCggi0iRmtTOJhrKa5zmM87mDI1ictHyXLlq1NNsoIIhIgwoKEscLSihkCO9yPI/zZ05KOEctg+ykgCAi9YouQwEwgft5krGsZR++zCs8zXEJ5+Tnq2WQrfQcgogkFd3hLLSYI5jND7mMGxPGC0CDx9lOLQQRiTNlSqyLKNzUppBXmM0P6EQ1axlIMTMVDNoptRBEpEZ0rMDYyaXcxK+4kgoGMJD3ki5dnZ8PpaVtWElpNWohiEhNqyC0NxU8yVh+w+Us4iRGsLTefQwUDNoPtRBEOri6A8fg/JlvUUApP2Imsygi2U636iJqf9RCEOmgwlZBGAzy+IjufAIYU7iTkbzGLH5ENBiYQXGxgkF71ZItNAeb2d/MbKWZlZrZ1CD9Z2b2npktDV7HR865wszKzGyVmR0XST/EzJYHedODrTRFpJVEB40BxvEnSingZ/wMgFcYxSq+kHDezp1w551tVElpcy1pIVQBl7r7F4HRwHlmlh/k3eLuI4LX4wBB3gSgABgL3GlmOUH5GUARsX2Whwf5IpJidR8y68/7zOcM/sTJrKM/85lQ77lqFbR/zQ4I7l7h7q8Gx1uAlcDABk4ZB8x39x3uvhooA0aZ2QCgt7u/4O4O3AOMb269RCS5umMFJ/JnVvJFxvMnfsrP+TKvsJSRCefl5ysYdBQpGUMws6HASOClIOl8M1tmZnPNLC9IGwisiZxWHqQNDI7rpif7nCIzKzGzksrKylRUXaRdC8cJomMFxk4A3mI/XmYUB7GMX/JTquiScH5xsWYRdSQtnmVkZj2Bh4GL3H2zmc0AfkFsU9VfADcB55JsmkK48Wry9MRE91nALIDCwkL9ZhFpQN2RuL58yC/5Cbls5Dvcz0ryGctTSc/NzdXyEx1Ri1oIZtaFWDC4190fAXD3de5e7e47gdnAqKB4OTA4cvogYG2QPihJuog0Q91nCrrwKRdzM2Xszw+ZzTr604nqes93VzDoqFoyy8iAOcBKd785kh7dHeNk4I3geBEwwcy6mdkwYoPHL7t7BbDFzEYH1zwHWNjceol0VOGAcXT20EheZQX53MylvMRXOJjXuZhb2UlOwvmaTiot6TI6FDgbWG5mS4O0K4EzzWwEsW6fd4AfAbh7qZktAFYQm6F0nruHP1OKgbuBHsATwUtEmiC6yX2M05vNbKYP7zKEdfTnfO7gqXom72npCQmZZ+lPgsLCQi8pKUl3NUTSJvEJY/g6f+carqYHn/AVXiL5EF1MTg4UFem5go7GzJa4e2GyPD2pLJJFks0aAmcMf+U5juLvHMX+lDGPieTUM04QTiOtqlIwkHhay0gkC0yZEj82EHU6C3iACbzHPkzlVmZRxHZ6JC2bpR0C0kYUEEQyWOL4APRgG+dwD5vow3zOZCHjOJc53Mt3+ZRuSa/TpYu2tJTGqctIJMNEu4WiweBzvMP1XE45g5hJMSfzKAA76M7vObfeYFBcrGAgTaMWgkiGaGhJx2u4ip/wS3bSiUf4NtO5kH9xaIPXKy7WGIHsGrUQRNIkfG4gfEXtz5v8kh+zD+8B8CKjuZYfM5R3OIMF/IvDqG8GUThorGAgu0otBJE2Vt8AcV8+5DQe5Cz+yGH8i2o6sZz/4QEm8ATH8wTHJ54U0BiBpIICgkgbSPbMQExsOa+ebGENg9mNTygln2n8mns4hwr2afC6WnNIUkkBQaQVNDRNdC/WcRKLGPYom/oAAAkbSURBVM+fADiRv/AxvbiEm3mR0bzOwTT0QBno6WJpHQoIIi1U/6//eN/hXi7gdkbxMp1w3mYYD3EqYSvhd0xu9Bp6jkBakwKCyC5qSgAYzLt8g+c4mr9yIdPZQF/6sw6Aq7mGRZzEMg6isZYAqFtI2o4CgkgDGur6qWs4/+FybuDr/IPhlAGwnn4M501e5ivcwsXcwiVNupa6hCQdFBCkw9uVL32AXmzmEJbwZV5hNC8ynwk8yOl0Yicn8yjPcxh3cD7P8Q1KKcBrZnc33hpQl5CkkwKCdAh5ebBx466ftxfr2J2trGZfurGdpYzg8/yHTsGmfmXsx184AYBVHEA/KiMBoHHqDpJMooAgWa+pg7pN8T1+TyEl5LOCAkrZi0oeZTzf5lF20J1/cjj38R1eZhQlFPIhe0bONrwJrQA9MyCZSgFB0m7KFJg5s226Sw7leb7EqwxjNcNYzf6UsZFcDud5AIqYRT4rKKWARZzEcv6Hl/hKzflFzN7lz1QrQLJFxgQEMxsL3AbkAHe5+3VprlKLNbebQpqmE9X05SP24ENW8QUAjuNJjuTvDKCCfVjLQN6jO9vZj7cBuJDpnM6DbKMHqxnGmwwP5v3HHMvTfExPmtLfXx8FAMlWGREQzCwH+C1wDFAOvGJmi9w9RR0BbU/BoCFON3awG9vYna1BH/0wPqUb+/MmX+YVerGFPmyqeV3Br/mYXhRzJ1O5jT34kL58VNOX34NtbKcHx/I053MH77M3a9mHFeRTziCMnTiduJSbOJ87qKQfyb70P6bXLt2JFpCT9iQjAgIwCihz97cBzGw+MI7Y/sup9/TTsGMHHHQQDBnS8DKTEOvL+Oyz2OL0EOuw3rQJtm2LvbZvh733hsMPj+XPmMEPN26hM1V0poocqnmdg3mUbwPwc35KZ6riPuJFRrOIcXSiml/w09jHBl9YjrGYI3iGY+nOJ0yjtvEUlnmOb/BPjqA3m7iIW4FYj3boScbyEqPpx3ou4Pagt7v29TCnsIRChvBfLuB2OrGTTuwkh2o6sZO7+AFLGUkBb/C//IYcqmvurzNVXMPVLGUkX+fv/JKf0I0ddOVTuvIp3djBqTzEa3yJidzN3Xw/4X/iA1lOKQfyTZ5gOlNr0qvpxCb6cAOX8zG9+IA9eY2RfERfPmBPKunHB+zJzmAg9wp+zWXcWO/AbjmDG/63boRmAUl7likBYSCwJvJ3OUQ6bgNmVgQUAQwZMqT5n3bttbB4cew4JyfWxh89Gh57LJZ28snw2mvwySexL/ytW+Hoo2OBBOCEE+Cdd+KvOX58bUC46ipu4IO47Hs4uyYgTOU2urEjLn8mk4OAsJPLuLHmyzz8ws6hmmc4lh58wtX8POGWPqML/+QI+rCJa/hZQv4G8oKAUMmV/AogLiSs4gCWUEh/1lHMDKrJCUJCJ6rJ4WmOZSkjyWMDR/J3PqML1eRQRWc+owu7sQ2AanLYQTc20zsIB13ZTvegGwZe52Cu4So+oQdb2b3m/T0GAnAf3+FpjmULvdhEH7ayO9Ff8g9yOg9yevJ/V6h3T4CmUnePdGTmGfCTx8xOA45z9x8Ef58NjHL3C+o7p7Cw0EtKSpr3gZs3wxtvwLJl8O67sV/7/fvDVVfF8qdNg4oK6NEj9urVCz7/eTjrrFj+M89AdTXstlvs1aMH9O0LAwbE8jdtYvfczjVfmjvJaV49myz8N7TIMZE0qUsPfklHZWZL3L0wWV6mtBDKIa4tPwhY22qf1rs3fO1rsVcy1zUynn3MMQ3n9+lD11zY1mZjCFbPccekL3uR5smUDXJeAYab2TAz6wpMABaluU4tsmFDrPtBmqe4ONZf35yXgoFI82REC8Hdq8zsfOApYtNO57p71v/fWn3RIpJNMiIgALj748Dj6a6HiEhHlSldRiIikmYKCCIiAiggiIhIQAFBREQABQQREQlkxJPKzWFmlcB/012PJtoT6qxl0X6053uD9n1/urfs1ZL7+5y790uWkbUBIZuYWUl9j4pnu/Z8b9C+70/3lr1a6/7UZSQiIoACgoiIBBQQ2sasdFegFbXne4P2fX+6t+zVKvenMQQREQHUQhARkYACgoiIAAoIrcrMxprZKjMrM7Np6a5PKpnZYDP7m5mtNLNSM5va+FnZxcxyzOw1M3ss3XVJNTPLNbOHzOzfwb/hV9Ndp1Qxs4uD/ybfMLP7zax7uuvUXGY218zWm9kbkbS+ZvaMmb0ZvOel6vMUEFqJmeUAvwW+CeQDZ5pZfnprlVJVwKXu/kVgNHBeO7s/gKnAynRXopXcBjzp7l8ADqad3KeZDQQuBArd/UBi+6tMSG+tWuRuYGydtGnAs+4+HHg2+DslFBBazyigzN3fdvdPgfnAuDTXKWXcvcLdXw2OtxD7QhmY3lqljpkNAk4A7kp3XVLNzHoDRwBzANz9U3dvsw1f20BnoIeZdQZ2ozW3421l7r4Y+KhO8jhgXnA8Dxifqs9TQGg9A4E1kb/LaUdfmFFmNhQYCbyU3pqk1K3A5cDOdFekFewLVAK/D7rE7jKz3dNdqVRw9/eAG4F3gQpgk7s/nd5apVx/d6+A2A8zYK9UXVgBofUk2+2+3c3xNbOewMPARe6+Od31SQUzOxFY7+5L0l2XVtIZ+BIww91HAltJYbdDOgX96eOAYcA+wO5mdlZ6a5U9FBBaTzkwOPL3ILK46ZqMmXUhFgzudfdH0l2fFDoUOMnM3iHW1fcNM/tjequUUuVAubuHLbqHiAWI9uBoYLW7V7r7Z8AjwNfSXKdUW2dmAwCC9/WpurACQut5BRhuZsPMrCuxga1Faa5TypiZEeuDXunuN6e7Pqnk7le4+yB3H0rs3+05d283vzLd/X1gjZkdECSNAVaksUqp9C4w2sx2C/4bHUM7GTCPWARMDI4nAgtTdeHOqbqQxHP3KjM7H3iK2EyHue5emuZqpdKhwNnAcjNbGqRd6e6Pp7FO0nQXAPcGP1beBr6f5vqkhLu/ZGYPAa8Smwn3Glm8jIWZ3Q8cCexpZuXA1cB1wAIzm0QsAJ6Wss/T0hUiIgLqMhIRkYACgoiIAAoIIiISUEAQERFAAUFERAIKCCIiAiggiIhI4P8DD5d6LTajp18AAAAASUVORK5CYII=\n",
      "text/plain": [
       "<Figure size 432x288 with 1 Axes>"
      ]
     },
     "metadata": {
      "needs_background": "light"
     },
     "output_type": "display_data"
    }
   ],
   "source": [
    "X = np.random.rand(1000, 1) * 10\n",
    "y = 2 * X ** 4 - 5 * X ** 2 + X - 2\n",
    "y = y + np.random.normal(scale=3, size=y.shape)\n",
    "\n",
    "X = X.reshape(-1, 1)\n",
    "y = y.reshape(-1, 1)\n",
    "\n",
    "plt.plot(X, y, 'bo')\n",
    "\n",
    "lr_model = LinearRegression(normalize=True)\n",
    "\n",
    "lr_model.fit(X, y)\n",
    "print(lr_model.coef_, lr_model.intercept_)\n",
    "\n",
    "h = lr_model.predict(X)\n",
    "MSE = np.mean((y - h) ** 2) / 2\n",
    "print(MSE)\n",
    "\n",
    "1 - (2 * MSE / y.var())\n",
    "\n",
    "x_16 = np.hstack((X, X ** 2, X ** 3, X ** 4, X ** 5, X ** 6, X ** 7, X ** 8, X ** 9, X ** 10, X ** 11, X ** 12, X ** 13, X ** 14, X ** 15, X ** 16))\n",
    "\n",
    "lr_model.fit(x_16, y)\n",
    "\n",
    "x_line = np.arange(-1, 10, 0.1).reshape(-1, 1)\n",
    "x_line_poly = np.hstack((x_line, x_line ** 2, x_line ** 3, x_line ** 4, x_line ** 5, x_line ** 6, x_line ** 7, x_line ** 8, x_line ** 9, x_line ** 10, x_line ** 11, x_line ** 12, x_line ** 13, x_line ** 14, x_line ** 15, x_line ** 16))\n",
    "y_line = lr_model.predict(x_line_poly)\n",
    "\n",
    "plt.plot(X[:, 0], y, 'bo')\n",
    "plt.plot(x_line, y_line, 'r--')\n",
    "\n",
    "lr_model.score(x_16, y)"
   ]
  },
  {
   "cell_type": "code",
   "execution_count": 196,
   "metadata": {},
   "outputs": [
    {
     "data": {
      "image/png": "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\n",
      "text/plain": [
       "<Figure size 432x288 with 1 Axes>"
      ]
     },
     "metadata": {
      "needs_background": "light"
     },
     "output_type": "display_data"
    }
   ],
   "source": [
    "#lr_model.score(x_4, y):5=1\n",
    "#lr_model.score(x_4, y):25=  0.999999814297539\n",
    "#lr_model.score(x_4, y):100= 0.9999997843664648\n",
    "#lr_model.score(x_4, y):1000=0.9999996735396524\n",
    "deg_4 = np.array([1, 0.999999814297539, 0.9999997843664648, 0.9999996735396524])\n",
    "#lr_model.score(x_1, y):5=   0.6313761181513592\n",
    "#lr_model.score(x_1, y):25=  0.693675166275491\n",
    "#lr_model.score(x_1, y):100= 0.7707383304571156\n",
    "#lr_model.score(x_1, y):1000=0.7527193054868214\n",
    "deg_1 = np.array([0.6313761181513592, 0.693675166275491, 0.7707383304571156, 0.7527193054868214])\n",
    "#lr_model.score(x_16, y):5=1\n",
    "#lr_model.score(x_16, y):25 = 0.9999999422816986\n",
    "#lr_model.score(x_16, y):100= 0.9999997125459045\n",
    "#lr_model.score(x_16, y):1000=0.9999996895349096\n",
    "deg_16 = np.array([1, 0.9999999422816986, 0.9999997125459045, 0.9999996895349096])\n",
    "\n",
    "Y= np.array([5, 25, 100, 1000])\n",
    "\n",
    "plt.plot( Y, deg_4,'bo--', label='Model:1')\n",
    "#plt.plot(Y, deg_1, 'ro--', label='Model:2')\n",
    "plt.plot(Y, deg_16, 'go--', label='Model:3')\n",
    "plt.xlabel('Y')\n",
    "plt.ylabel('lr_model.score')\n",
    "plt.legend()\n",
    "plt.grid()"
   ]
  },
  {
   "cell_type": "code",
   "execution_count": 197,
   "metadata": {},
   "outputs": [
    {
     "data": {
      "image/png": "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\n",
      "text/plain": [
       "<Figure size 432x288 with 1 Axes>"
      ]
     },
     "metadata": {
      "needs_background": "light"
     },
     "output_type": "display_data"
    }
   ],
   "source": [
    "plt.plot(Y, deg_1, 'ro--', label='Model:2')\n",
    "plt.xlabel('Y')\n",
    "plt.ylabel('lr_model.score')\n",
    "plt.legend()\n",
    "plt.grid()"
   ]
  },
  {
   "cell_type": "code",
   "execution_count": null,
   "metadata": {},
   "outputs": [],
   "source": []
  }
 ],
 "metadata": {
  "kernelspec": {
   "display_name": "Python 3",
   "language": "python",
   "name": "python3"
  },
  "language_info": {
   "codemirror_mode": {
    "name": "ipython",
    "version": 3
   },
   "file_extension": ".py",
   "mimetype": "text/x-python",
   "name": "python",
   "nbconvert_exporter": "python",
   "pygments_lexer": "ipython3",
   "version": "3.8.3"
  }
 },
 "nbformat": 4,
 "nbformat_minor": 4
}
# Homework1
